{
 "cells": [
  {
   "cell_type": "code",
   "execution_count": 4,
   "metadata": {},
   "outputs": [
    {
     "name": "stdout",
     "output_type": "stream",
     "text": [
      "Note: you may need to restart the kernel to use updated packages.\n"
     ]
    },
    {
     "name": "stderr",
     "output_type": "stream",
     "text": [
      "ERROR: Could not open requirements file: [Errno 2] No such file or directory: 'requirements.txt'\n"
     ]
    }
   ],
   "source": [
    "%pip install -r requirements.txt"
   ]
  },
  {
   "cell_type": "code",
   "execution_count": 1,
   "metadata": {},
   "outputs": [
    {
     "name": "stdout",
     "output_type": "stream",
     "text": [
      "Requirement already satisfied: straug in c:\\users\\ritabrata\\miniconda3\\envs\\cvit\\lib\\site-packages (0.1.2)\n",
      "Requirement already satisfied: torchvision in c:\\users\\ritabrata\\miniconda3\\envs\\cvit\\lib\\site-packages (from straug) (0.18.0)\n",
      "Requirement already satisfied: magickwand in c:\\users\\ritabrata\\miniconda3\\envs\\cvit\\lib\\site-packages (from straug) (0.2)\n",
      "Requirement already satisfied: pillow in c:\\users\\ritabrata\\miniconda3\\envs\\cvit\\lib\\site-packages (from straug) (10.3.0)\n",
      "Requirement already satisfied: opencv-python in c:\\users\\ritabrata\\miniconda3\\envs\\cvit\\lib\\site-packages (from straug) (4.9.0.80)\n",
      "Requirement already satisfied: opencv-contrib-python in c:\\users\\ritabrata\\miniconda3\\envs\\cvit\\lib\\site-packages (from straug) (4.9.0.80)\n",
      "Requirement already satisfied: scikit-image in c:\\users\\ritabrata\\miniconda3\\envs\\cvit\\lib\\site-packages (from straug) (0.23.2)\n",
      "Requirement already satisfied: numpy in c:\\users\\ritabrata\\miniconda3\\envs\\cvit\\lib\\site-packages (from straug) (1.26.4)\n",
      "Requirement already satisfied: Wand in c:\\users\\ritabrata\\miniconda3\\envs\\cvit\\lib\\site-packages (from straug) (0.6.13)\n",
      "Requirement already satisfied: scipy>=1.9 in c:\\users\\ritabrata\\miniconda3\\envs\\cvit\\lib\\site-packages (from scikit-image->straug) (1.13.0)\n",
      "Requirement already satisfied: networkx>=2.8 in c:\\users\\ritabrata\\miniconda3\\envs\\cvit\\lib\\site-packages (from scikit-image->straug) (3.3)\n",
      "Requirement already satisfied: imageio>=2.33 in c:\\users\\ritabrata\\miniconda3\\envs\\cvit\\lib\\site-packages (from scikit-image->straug) (2.34.1)\n",
      "Requirement already satisfied: tifffile>=2022.8.12 in c:\\users\\ritabrata\\miniconda3\\envs\\cvit\\lib\\site-packages (from scikit-image->straug) (2024.5.10)\n",
      "Requirement already satisfied: packaging>=21 in c:\\users\\ritabrata\\miniconda3\\envs\\cvit\\lib\\site-packages (from scikit-image->straug) (24.0)\n",
      "Requirement already satisfied: lazy-loader>=0.4 in c:\\users\\ritabrata\\miniconda3\\envs\\cvit\\lib\\site-packages (from scikit-image->straug) (0.4)\n",
      "Requirement already satisfied: torch==2.3.0 in c:\\users\\ritabrata\\miniconda3\\envs\\cvit\\lib\\site-packages (from torchvision->straug) (2.3.0)\n",
      "Requirement already satisfied: filelock in c:\\users\\ritabrata\\miniconda3\\envs\\cvit\\lib\\site-packages (from torch==2.3.0->torchvision->straug) (3.14.0)\n",
      "Requirement already satisfied: typing-extensions>=4.8.0 in c:\\users\\ritabrata\\miniconda3\\envs\\cvit\\lib\\site-packages (from torch==2.3.0->torchvision->straug) (4.11.0)\n",
      "Requirement already satisfied: sympy in c:\\users\\ritabrata\\miniconda3\\envs\\cvit\\lib\\site-packages (from torch==2.3.0->torchvision->straug) (1.12)\n",
      "Requirement already satisfied: jinja2 in c:\\users\\ritabrata\\miniconda3\\envs\\cvit\\lib\\site-packages (from torch==2.3.0->torchvision->straug) (3.1.4)\n",
      "Requirement already satisfied: fsspec in c:\\users\\ritabrata\\miniconda3\\envs\\cvit\\lib\\site-packages (from torch==2.3.0->torchvision->straug) (2024.5.0)\n",
      "Requirement already satisfied: mkl<=2021.4.0,>=2021.1.1 in c:\\users\\ritabrata\\miniconda3\\envs\\cvit\\lib\\site-packages (from torch==2.3.0->torchvision->straug) (2021.4.0)\n",
      "Requirement already satisfied: intel-openmp==2021.* in c:\\users\\ritabrata\\miniconda3\\envs\\cvit\\lib\\site-packages (from mkl<=2021.4.0,>=2021.1.1->torch==2.3.0->torchvision->straug) (2021.4.0)\n",
      "Requirement already satisfied: tbb==2021.* in c:\\users\\ritabrata\\miniconda3\\envs\\cvit\\lib\\site-packages (from mkl<=2021.4.0,>=2021.1.1->torch==2.3.0->torchvision->straug) (2021.12.0)\n",
      "Requirement already satisfied: MarkupSafe>=2.0 in c:\\users\\ritabrata\\miniconda3\\envs\\cvit\\lib\\site-packages (from jinja2->torch==2.3.0->torchvision->straug) (2.1.5)\n",
      "Requirement already satisfied: mpmath>=0.19 in c:\\users\\ritabrata\\miniconda3\\envs\\cvit\\lib\\site-packages (from sympy->torch==2.3.0->torchvision->straug) (1.3.0)\n",
      "Note: you may need to restart the kernel to use updated packages.\n"
     ]
    }
   ],
   "source": [
    "%pip install straug"
   ]
  },
  {
   "cell_type": "code",
   "execution_count": 1,
   "metadata": {},
   "outputs": [
    {
     "name": "stdout",
     "output_type": "stream",
     "text": [
      "c:\\Users\\Ritabrata\\Downloads\\CVIT\\straug\n"
     ]
    }
   ],
   "source": [
    "%cd c:\\Users\\Ritabrata\\Downloads\\CVIT\\straug"
   ]
  },
  {
   "cell_type": "code",
   "execution_count": 8,
   "metadata": {},
   "outputs": [
    {
     "name": "stdout",
     "output_type": "stream",
     "text": [
      "Requirement already satisfied: pillow in c:\\users\\ritabrata\\miniconda3\\envs\\cvit\\lib\\site-packages (10.3.0)\n",
      "Note: you may need to restart the kernel to use updated packages.\n"
     ]
    }
   ],
   "source": [
    "%pip install pillow"
   ]
  },
  {
   "cell_type": "code",
   "execution_count": 2,
   "metadata": {},
   "outputs": [
    {
     "name": "stdout",
     "output_type": "stream",
     "text": [
      "Requirement already satisfied: pillow in c:\\users\\ritabrata\\miniconda3\\envs\\cvit\\lib\\site-packages (10.3.0)\n",
      "Note: you may need to restart the kernel to use updated packages.\n"
     ]
    }
   ],
   "source": [
    "from straug.warp import Curve\n",
    "%pip install pillow\n",
    "from PIL import Image # type: ignore\n",
    "img = Image.open(\"images/nokia.png\")\n",
    "img = Curve()(img, mag=3)\n",
    "img.save(\"curved_nokia.png\")"
   ]
  },
  {
   "cell_type": "code",
   "execution_count": 13,
   "metadata": {},
   "outputs": [
    {
     "name": "stderr",
     "output_type": "stream",
     "text": [
      "Traceback (most recent call last):\n",
      "  File \"c:\\Users\\Ritabrata\\Downloads\\CVIT\\straug\\test.py\", line 46, in <module>\n",
      "    out_img = op(img, mag=mag)\n",
      "              ^^^^^^^^^^^^^^^^\n",
      "  File \"c:\\Users\\Ritabrata\\Downloads\\CVIT\\straug\\straug\\blur.py\", line 150, in __call__\n",
      "    img = np.uint8(gaussian(np.asarray(img) / 255., sigma=c[0], multichannel=True) * 255)\n",
      "                   ^^^^^^^^^^^^^^^^^^^^^^^^^^^^^^^^^^^^^^^^^^^^^^^^^^^^^^^^^^^^^^^\n",
      "  File \"c:\\USERS\\RITABRATA\\MINICONDA3\\ENVS\\CVIT\\Lib\\site-packages\\skimage\\_shared\\utils.py\", line 321, in fixed_func\n",
      "    return func(*args, **kwargs)\n",
      "           ^^^^^^^^^^^^^^^^^^^^^\n",
      "TypeError: gaussian() got an unexpected keyword argument 'multichannel'\n"
     ]
    }
   ],
   "source": [
    "!python test.py --image=images/nokia.png"
   ]
  },
  {
   "cell_type": "code",
   "execution_count": 16,
   "metadata": {},
   "outputs": [],
   "source": [
    "from straug.weather import Fog\n",
    "from PIL import Image\n",
    "img=Image.open(\"images/nokia.png\")\n",
    "img=Fog()(img,mag=1)\n",
    "img.save(\"foggy_nokia_grade_1.png\")"
   ]
  },
  {
   "cell_type": "code",
   "execution_count": 18,
   "metadata": {},
   "outputs": [
    {
     "name": "stdout",
     "output_type": "stream",
     "text": [
      "Foggy images have been saved in the 'fog_results' folder.\n"
     ]
    }
   ],
   "source": [
    "import os\n",
    "from straug.weather import Fog\n",
    "from PIL import Image\n",
    "\n",
    "\n",
    "output_dir = \"fog_results\"\n",
    "if not os.path.exists(output_dir):\n",
    "    os.makedirs(output_dir)\n",
    "\n",
    "\n",
    "input_dir = \"images\"\n",
    "png_files = [f for f in os.listdir(input_dir) if f.endswith('.png')]\n",
    "\n",
    "\n",
    "for file_name in png_files:\n",
    "    # Open the original image\n",
    "    img_path = os.path.join(input_dir, file_name)\n",
    "    img = Image.open(img_path)\n",
    "    \n",
    "    # Apply fog with magnitudes 1, 2, and 3\n",
    "    for mag in [1, 2, 3]:\n",
    "        foggy_img = Fog()(img, mag=mag)\n",
    "        \n",
    "        # Construct the output file name\n",
    "        base_name = os.path.splitext(file_name)[0]\n",
    "        output_file_name = f\"{base_name}_fog_{mag}.png\"\n",
    "        output_path = os.path.join(output_dir, output_file_name)\n",
    "        \n",
    "        # Save the foggy image\n",
    "        foggy_img.save(output_path)\n",
    "\n",
    "print(\"Foggy images have been saved in the 'fog_results' folder.\")\n"
   ]
  },
  {
   "cell_type": "markdown",
   "metadata": {},
   "source": [
    "# Batch Processing for all functions"
   ]
  },
  {
   "cell_type": "code",
   "execution_count": 28,
   "metadata": {},
   "outputs": [
    {
     "name": "stdout",
     "output_type": "stream",
     "text": [
      "Augmented images have been saved in the 'results_demo' folder.\n"
     ]
    }
   ],
   "source": [
    "import os\n",
    "from straug.warp import Curve, Distort, Stretch\n",
    "from straug.geometry import Perspective, Rotate, Shrink\n",
    "from straug.pattern import Grid, VGrid, HGrid, RectGrid, EllipseGrid\n",
    "from straug.weather import Fog, Snow, Frost, Rain, Shadow\n",
    "from straug.camera import Contrast, Brightness, JpegCompression, Pixelate\n",
    "from straug.process import Posterize, Solarize, Invert, Equalize, AutoContrast, Sharpness, Color\n",
    "from PIL import Image\n",
    "\n",
    "# Create the output directory if it doesn't exist\n",
    "output_dir = \"results_demo\"\n",
    "if not os.path.exists(output_dir):\n",
    "    os.makedirs(output_dir)\n",
    "\n",
    "# Get all the PNG files in the \"images\" directory\n",
    "input_dir = \"images\"\n",
    "png_files = [f for f in os.listdir(input_dir) if f.endswith('.png')]\n",
    "\n",
    "# List of augmentation functions and their names, excluding blur and problematic noise functions\n",
    "augmentation_functions = [\n",
    "    (Curve, \"curve\"), (Distort, \"distort\"), (Stretch, \"stretch\"),\n",
    "    (Perspective, \"perspective\"), (Rotate, \"rotate\"), (Shrink, \"shrink\"),\n",
    "    (Grid, \"grid\"), (VGrid, \"vgrid\"), (HGrid, \"hgrid\"), (RectGrid, \"rectgrid\"), (EllipseGrid, \"ellipsegrid\"),\n",
    "    (Fog, \"fog\"), (Snow, \"snow\"), (Frost, \"frost\"), (Rain, \"rain\"), (Shadow, \"shadow\"),\n",
    "    (Contrast, \"contrast\"), (Brightness, \"brightness\"), (JpegCompression, \"jpegcompression\"), (Pixelate, \"pixelate\"),\n",
    "    (Posterize, \"posterize\"), (Solarize, \"solarize\"), (Invert, \"invert\"), (Equalize, \"equalize\"), (AutoContrast, \"autocontrast\"), (Sharpness, \"sharpness\"), (Color, \"color\")\n",
    "]\n",
    "\n",
    "# Apply each function with magnitudes 1, 2, and 3\n",
    "for file_name in png_files:\n",
    "    img_path = os.path.join(input_dir, file_name)\n",
    "    img = Image.open(img_path)\n",
    "    \n",
    "    for func, func_name in augmentation_functions:\n",
    "        for mag in [1, 2, 3]:\n",
    "            augmented_img = func()(img, mag=mag)\n",
    "            \n",
    "            # Construct the output file name\n",
    "            base_name = os.path.splitext(file_name)[0]\n",
    "            output_file_name = f\"{base_name}_{func_name}_{mag}.png\"\n",
    "            output_path = os.path.join(output_dir, output_file_name)\n",
    "            \n",
    "            # Save the augmented image\n",
    "            augmented_img.save(output_path)\n",
    "\n",
    "print(\"Augmented images have been saved in the 'results_demo' folder.\")\n"
   ]
  },
  {
   "cell_type": "markdown",
   "metadata": {},
   "source": [
    "# Can we increase the magnitude from 3 to a user input?"
   ]
  },
  {
   "cell_type": "code",
   "execution_count": null,
   "metadata": {},
   "outputs": [],
   "source": []
  },
  {
   "cell_type": "code",
   "execution_count": null,
   "metadata": {},
   "outputs": [],
   "source": []
  }
 ],
 "metadata": {
  "kernelspec": {
   "display_name": "CVIT",
   "language": "python",
   "name": "python3"
  },
  "language_info": {
   "codemirror_mode": {
    "name": "ipython",
    "version": 3
   },
   "file_extension": ".py",
   "mimetype": "text/x-python",
   "name": "python",
   "nbconvert_exporter": "python",
   "pygments_lexer": "ipython3",
   "version": "3.12.3"
  }
 },
 "nbformat": 4,
 "nbformat_minor": 2
}
